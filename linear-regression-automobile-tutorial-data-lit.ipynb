{
 "cells": [
  {
   "cell_type": "markdown",
   "metadata": {
    "heading_collapsed": true
   },
   "source": [
    "# Import packages & dataset"
   ]
  },
  {
   "cell_type": "code",
   "execution_count": 1,
   "metadata": {
    "ExecuteTime": {
     "end_time": "2019-08-05T20:38:48.703347Z",
     "start_time": "2019-08-05T20:38:38.621330Z"
    },
    "_cell_guid": "b1076dfc-b9ad-4769-8c92-a6c4dae69d19",
    "_uuid": "8f2839f25d086af736a60e9eeb907d3b93b6e0e5",
    "collapsed": true,
    "hidden": true
   },
   "outputs": [
    {
     "name": "stdout",
     "output_type": "stream",
     "text": [
      "['.ipynb_checkpoints', '05-902.pdf', '05-906 (1).pdf', '05-906.pdf', '1099-MISC_IronHorseInvestmentCoLLCDBACannon.zip', '1099-MISC_PhoenixRecyclingInc (1).zip', '1099-MISC_PhoenixRecyclingInc.zip', '1099MISC_IronHorseInvestmentCoLLCDBACannon.zip', '1099MISC_NEWCENTURYENTERPRISESINC.zip', '1099MISC_PhoenixRecyclingInc (1).zip', '1099MISC_PhoenixRecyclingInc.zip', '130-U.pdf', '2016 New Century p1 TR 001.jpg', '2017', '6560208132.pdf', '774742064358911.PDF', '780749350002-11025626.zip', '799482290002-11025626.zip', '857182110002-11025626.zip', 'Advertisement.pdf', 'affordability-ffm-exemption.pdf', 'Anaconda3-2019.03-Windows-x86_64.exe', 'April 2017 Bank Statement.pdf', 'Atlas 21.5 Quadra Color Manual.pdf', 'Atlas 22.75 Quadra Color Parts Catalog-2015.pdf', 'Attach27823_20171012_161207.jpg', 'Automobile_data.csv', 'business-bill-of-sale-purchase-agreement.docx', 'CCF02212019.pdf', 'CCI02212019.jpg', 'CDR_voice_7739875095 (1).csv', 'CDR_voice_7739875095.csv', 'Check Positive Pay Agreement (1).pdf', 'Check Positive Pay Agreement.pdf', 'CMA_41000_03212018.pdf', 'Copy of 1099 Cannon  Phoenix 2018.xlsx', 'Dallas County - Tax Office Receipt 2017 paid in 2018.pdf', 'desktop.ini', 'document_0s234375.pdf', 'document_0s359375.pdf', 'Document_2152019_112106_AM_1dd6joEN.pdf', 'Electricity Bill.PDF', 'eStmt_2017-03-27.pdf', 'eStmt_2018-01-27.pdf', 'eStmt_2018-02-27.pdf', 'export Comerica x5961 01-01-18 to 05-13-19.qbo', 'export Comerica x5961 01-01-19 to 05-13-19.qbo', 'f941--2017.pdf', 'f941.pdf', 'FAQ Replacement RS 5_16_2018 - Revised.docx', 'February2019_9656.qbo', 'Fengjuan.pdf', 'Flight Delay Analysis.ipynb', 'focusbooster2.2.0.zip', 'Form1095a TIEN NGO 2016.pdf', 'formatted_flights.csv', 'formatted_flights.txt', 'fuji_family_1_2.pdf', 'Full+Report.pdf', 'fw9.pdf', 'Garland ISD Tax Office Receipt 2017 paid in 2018.pdf', 'General Journal Entry 143.pdf', 'General Journal Entry 144.pdf', 'GeneratePDF.pdf', 'hardship-exemption.pdf', 'IMG_2957.jpg', 'IMG_2958.jpg', 'IMG_2959.jpg', 'IRPC-8.pdf', 'January2019_9656.qbo', 'jm-ibc-affidavit.pdf', 'June2019_9656.qbo', 'June2019_9656.qfx', 'June2019_9656.qif', 'Jupyter Template.ipynb', 'Label-449251498.pdf', 'Lifong.pdf', 'Linear Regression Automobile Data.ipynb', 'linear-regression-automobile-tutorial-data-lit.ipynb', 'Locations (1).xls', 'Locations (2).xls', 'Locations.xls', 'Mai Lock in agreement (1).pdf', 'Mai Lock in agreement.pdf', 'Mai PreApproval.pdf', 'Master_2016_Curtailments_Closures_for_Web.xlsx', 'May2019_9656.qbo', 'May2019_9656.qfx', 'Metamorphosis.ipynb', 'metamorphosis.txt', 'metamorphosis_clean.txt', 'openrefine-3.1', 'openrefine-win-3.1.zip', 'phm-collection-tsv.tsv', 'phm-collection.tsv', 'Phoenix Bill of Lading Flyleaf.docx', 'Pivotal Merchant Application-WF-M2M 032017 (1).pdf', 'pqe0005964073.pdf', 'Pre-Qualification Letter - App   1704188348 - LOC- MAI - 4-24-2017.zip', 'PURCHASE AGREEMENT.docx', 'QB Temp Files', 'Quick CMA.pdf', 'Range Road.pdf', 'RANGEROADCOLLC.pdf', 'Sales Tax Exemption Form.pdf', 'Sentiment_Analysis.ipynb', 'Setup.Def.en-US_ProPlus2019Retail_041a4d9c-1ead-4ca9-8dd4-696410653d04_TX_PR_Platform_def_.exe', 'ShareX-12.4.1-setup.exe', 'spacesniffer_1_3_0_2', 'spacesniffer_1_3_0_2.zip', 'Statement.pdf', 'StatementFile.pdf', 'statement_12_31_2018.pdf', 'Statement_Apr 2019 (1).pdf', 'Statement_Apr 2019.pdf', 'STONEHENGEGARLANDPROPERTIESLLC.pdf', 'Taxable Entity Search Results.pdf', 'Taxable Entity Search Results1.pdf', 'Terms&Conditions.pdf', 'TextFiles.zip', 'TFTT10.pdf', 'THEVUINVESTMENTPROPERTIESLLC.pdf', 'Tom.pdf', 'Transcript.pdf', 'truck_tips.pdf', 'TurboTax Business 2018', 'twitter_mask.png', 'Untitled1.ipynb', 'USB Backup', \"Web Leader Pressman's Manual - Feb 2016.pdf\", 'Web Leader Quadra Color Parts Catalog 2014.pdf', 'wz050300.zip', 'x9119 03-31-17.pdf']\n"
     ]
    }
   ],
   "source": [
    "# This Python 3 environment comes with many helpful analytics libraries installed\n",
    "# It is defined by the kaggle/python docker image: https://github.com/kaggle/docker-python\n",
    "# For example, here's several helpful packages to load in \n",
    "\n",
    "import numpy as np # linear algebra\n",
    "import pandas as pd # data processing, CSV file I/O (e.g. pd.read_csv)\n",
    "\n",
    "# Input data files are available in the \"../input/\" directory.\n",
    "# For example, running this (by clicking run or pressing Shift+Enter) will list the files in the input directory\n",
    "\n",
    "import os\n",
    "print(os.listdir())\n",
    "\n",
    "# Any results you write to the current directory are saved as output."
   ]
  },
  {
   "cell_type": "code",
   "execution_count": 2,
   "metadata": {
    "ExecuteTime": {
     "end_time": "2019-08-05T20:38:48.751219Z",
     "start_time": "2019-08-05T20:38:48.706339Z"
    },
    "_cell_guid": "79c7e3d0-c299-4dcb-8224-4455121ee9b0",
    "_uuid": "d629ff2d2480ee46fbb7e2d37f6b5fab8052498a",
    "cell_style": "split",
    "hidden": true,
    "scrolled": true
   },
   "outputs": [
    {
     "data": {
      "text/plain": [
       "['symboling',\n",
       " 'normalized-losses',\n",
       " 'make',\n",
       " 'fuel-type',\n",
       " 'aspiration',\n",
       " 'num-of-doors',\n",
       " 'body-style',\n",
       " 'drive-wheels',\n",
       " 'engine-location',\n",
       " 'wheel-base',\n",
       " 'length',\n",
       " 'width',\n",
       " 'height',\n",
       " 'curb-weight',\n",
       " 'engine-type',\n",
       " 'num-of-cylinders',\n",
       " 'engine-size',\n",
       " 'fuel-system',\n",
       " 'bore',\n",
       " 'stroke',\n",
       " 'compression-ratio',\n",
       " 'horsepower',\n",
       " 'peak-rpm',\n",
       " 'city-mpg',\n",
       " 'highway-mpg',\n",
       " 'price']"
      ]
     },
     "execution_count": 2,
     "metadata": {},
     "output_type": "execute_result"
    }
   ],
   "source": [
    "# Load the dataset\n",
    "data = pd.read_csv('Automobile_data.csv')\n",
    "# List the available columns\n",
    "list(data)"
   ]
  },
  {
   "cell_type": "code",
   "execution_count": 18,
   "metadata": {
    "ExecuteTime": {
     "end_time": "2019-08-05T20:43:18.197177Z",
     "start_time": "2019-08-05T20:43:18.192191Z"
    },
    "cell_style": "split",
    "hidden": true,
    "scrolled": true
   },
   "outputs": [
    {
     "data": {
      "text/plain": [
       "Index(['symboling', 'normalized-losses', 'make', 'fuel-type', 'aspiration',\n",
       "       'num-of-doors', 'body-style', 'drive-wheels', 'engine-location',\n",
       "       'wheel-base', 'length', 'width', 'height', 'curb-weight', 'engine-type',\n",
       "       'num-of-cylinders', 'engine-size', 'fuel-system', 'bore', 'stroke',\n",
       "       'compression-ratio', 'horsepower', 'peak-rpm', 'city-mpg',\n",
       "       'highway-mpg', 'price'],\n",
       "      dtype='object')"
      ]
     },
     "execution_count": 18,
     "metadata": {},
     "output_type": "execute_result"
    }
   ],
   "source": [
    "data.columns"
   ]
  },
  {
   "cell_type": "code",
   "execution_count": null,
   "metadata": {
    "hidden": true
   },
   "outputs": [],
   "source": []
  },
  {
   "cell_type": "code",
   "execution_count": 20,
   "metadata": {
    "ExecuteTime": {
     "end_time": "2019-08-05T20:44:17.165793Z",
     "start_time": "2019-08-05T20:44:17.158810Z"
    },
    "cell_style": "split",
    "hidden": true,
    "scrolled": false
   },
   "outputs": [
    {
     "data": {
      "text/plain": [
       "symboling              int64\n",
       "normalized-losses     object\n",
       "make                  object\n",
       "fuel-type             object\n",
       "aspiration            object\n",
       "num-of-doors          object\n",
       "body-style            object\n",
       "drive-wheels          object\n",
       "engine-location       object\n",
       "wheel-base           float64\n",
       "length               float64\n",
       "width                float64\n",
       "height               float64\n",
       "curb-weight            int64\n",
       "engine-type           object\n",
       "num-of-cylinders      object\n",
       "engine-size            int64\n",
       "fuel-system           object\n",
       "bore                  object\n",
       "stroke                object\n",
       "compression-ratio    float64\n",
       "horsepower           float64\n",
       "peak-rpm               int64\n",
       "city-mpg               int64\n",
       "highway-mpg            int64\n",
       "price                float64\n",
       "dtype: object"
      ]
     },
     "execution_count": 20,
     "metadata": {},
     "output_type": "execute_result"
    }
   ],
   "source": [
    "data.dtypes"
   ]
  },
  {
   "cell_type": "code",
   "execution_count": 21,
   "metadata": {
    "ExecuteTime": {
     "end_time": "2019-08-05T20:44:29.794076Z",
     "start_time": "2019-08-05T20:44:29.783105Z"
    },
    "cell_style": "split",
    "hidden": true
   },
   "outputs": [
    {
     "name": "stdout",
     "output_type": "stream",
     "text": [
      "<class 'pandas.core.frame.DataFrame'>\n",
      "Int64Index: 199 entries, 0 to 204\n",
      "Data columns (total 26 columns):\n",
      "symboling            199 non-null int64\n",
      "normalized-losses    199 non-null object\n",
      "make                 199 non-null object\n",
      "fuel-type            199 non-null object\n",
      "aspiration           199 non-null object\n",
      "num-of-doors         199 non-null object\n",
      "body-style           199 non-null object\n",
      "drive-wheels         199 non-null object\n",
      "engine-location      199 non-null object\n",
      "wheel-base           199 non-null float64\n",
      "length               199 non-null float64\n",
      "width                199 non-null float64\n",
      "height               199 non-null float64\n",
      "curb-weight          199 non-null int64\n",
      "engine-type          199 non-null object\n",
      "num-of-cylinders     199 non-null object\n",
      "engine-size          199 non-null int64\n",
      "fuel-system          199 non-null object\n",
      "bore                 199 non-null object\n",
      "stroke               199 non-null object\n",
      "compression-ratio    199 non-null float64\n",
      "horsepower           199 non-null float64\n",
      "peak-rpm             199 non-null int64\n",
      "city-mpg             199 non-null int64\n",
      "highway-mpg          199 non-null int64\n",
      "price                199 non-null float64\n",
      "dtypes: float64(7), int64(6), object(13)\n",
      "memory usage: 42.0+ KB\n"
     ]
    }
   ],
   "source": [
    "data.info()"
   ]
  },
  {
   "cell_type": "code",
   "execution_count": 3,
   "metadata": {
    "ExecuteTime": {
     "end_time": "2019-08-05T20:38:48.773161Z",
     "start_time": "2019-08-05T20:38:48.757206Z"
    },
    "_uuid": "21815b13feb961f18f51465d244d0ab03192461b",
    "hidden": true
   },
   "outputs": [],
   "source": [
    "# Preprocess the dataset by coercing the important columns to numeric values\n",
    "data['horsepower'] = pd.to_numeric(data['horsepower'], \n",
    "                                   errors='coerce') # if value is not numeric, will fill in as NaN\n",
    "data['price'] = pd.to_numeric(data['price'], \n",
    "                              errors='coerce')\n",
    "\n",
    "# And removing any rows which contain missing data\n",
    "data.dropna(subset=['price', 'horsepower'], \n",
    "            inplace=True)"
   ]
  },
  {
   "cell_type": "markdown",
   "metadata": {
    "heading_collapsed": true
   },
   "source": [
    "# Statistically visualized the dataset"
   ]
  },
  {
   "cell_type": "code",
   "execution_count": 4,
   "metadata": {
    "ExecuteTime": {
     "end_time": "2019-08-05T20:38:50.056508Z",
     "start_time": "2019-08-05T20:38:48.777150Z"
    },
    "_uuid": "c6453d2e121072ee1d19bd6c96da4c42aa5690a2",
    "hidden": true
   },
   "outputs": [
    {
     "data": {
      "text/plain": [
       "(0.8105330821322063, 1.1891278276946011e-47)"
      ]
     },
     "execution_count": 4,
     "metadata": {},
     "output_type": "execute_result"
    }
   ],
   "source": [
    "from scipy.stats.stats import pearsonr\n",
    "pearsonr(data['horsepower'], data['price'])\n",
    "\n",
    "# Pearson correlation to check the linear relationship between 2 variables, a number between -1 and 1\n",
    "# more toward -1 negatively related, more toward 1 positively related, 0 no relation\n",
    "# 2nd number is p-value, probability that 2 variables are NOT linearly related\n",
    "# the smaller the lower the chance -> strongly indicated that 2 variables are related"
   ]
  },
  {
   "cell_type": "code",
   "execution_count": 5,
   "metadata": {
    "ExecuteTime": {
     "end_time": "2019-08-05T20:38:50.546198Z",
     "start_time": "2019-08-05T20:38:50.058502Z"
    },
    "_uuid": "881f8adfe0a2b3234dd68738327d40c0270e221a",
    "hidden": true
   },
   "outputs": [
    {
     "data": {
      "text/html": [
       "\n",
       "    <div class=\"bk-root\">\n",
       "        <a href=\"https://bokeh.pydata.org\" target=\"_blank\" class=\"bk-logo bk-logo-small bk-logo-notebook\"></a>\n",
       "        <span id=\"1001\">Loading BokehJS ...</span>\n",
       "    </div>"
      ]
     },
     "metadata": {},
     "output_type": "display_data"
    },
    {
     "data": {
      "application/javascript": [
       "\n",
       "(function(root) {\n",
       "  function now() {\n",
       "    return new Date();\n",
       "  }\n",
       "\n",
       "  var force = true;\n",
       "\n",
       "  if (typeof (root._bokeh_onload_callbacks) === \"undefined\" || force === true) {\n",
       "    root._bokeh_onload_callbacks = [];\n",
       "    root._bokeh_is_loading = undefined;\n",
       "  }\n",
       "\n",
       "  var JS_MIME_TYPE = 'application/javascript';\n",
       "  var HTML_MIME_TYPE = 'text/html';\n",
       "  var EXEC_MIME_TYPE = 'application/vnd.bokehjs_exec.v0+json';\n",
       "  var CLASS_NAME = 'output_bokeh rendered_html';\n",
       "\n",
       "  /**\n",
       "   * Render data to the DOM node\n",
       "   */\n",
       "  function render(props, node) {\n",
       "    var script = document.createElement(\"script\");\n",
       "    node.appendChild(script);\n",
       "  }\n",
       "\n",
       "  /**\n",
       "   * Handle when an output is cleared or removed\n",
       "   */\n",
       "  function handleClearOutput(event, handle) {\n",
       "    var cell = handle.cell;\n",
       "\n",
       "    var id = cell.output_area._bokeh_element_id;\n",
       "    var server_id = cell.output_area._bokeh_server_id;\n",
       "    // Clean up Bokeh references\n",
       "    if (id != null && id in Bokeh.index) {\n",
       "      Bokeh.index[id].model.document.clear();\n",
       "      delete Bokeh.index[id];\n",
       "    }\n",
       "\n",
       "    if (server_id !== undefined) {\n",
       "      // Clean up Bokeh references\n",
       "      var cmd = \"from bokeh.io.state import curstate; print(curstate().uuid_to_server['\" + server_id + \"'].get_sessions()[0].document.roots[0]._id)\";\n",
       "      cell.notebook.kernel.execute(cmd, {\n",
       "        iopub: {\n",
       "          output: function(msg) {\n",
       "            var id = msg.content.text.trim();\n",
       "            if (id in Bokeh.index) {\n",
       "              Bokeh.index[id].model.document.clear();\n",
       "              delete Bokeh.index[id];\n",
       "            }\n",
       "          }\n",
       "        }\n",
       "      });\n",
       "      // Destroy server and session\n",
       "      var cmd = \"import bokeh.io.notebook as ion; ion.destroy_server('\" + server_id + \"')\";\n",
       "      cell.notebook.kernel.execute(cmd);\n",
       "    }\n",
       "  }\n",
       "\n",
       "  /**\n",
       "   * Handle when a new output is added\n",
       "   */\n",
       "  function handleAddOutput(event, handle) {\n",
       "    var output_area = handle.output_area;\n",
       "    var output = handle.output;\n",
       "\n",
       "    // limit handleAddOutput to display_data with EXEC_MIME_TYPE content only\n",
       "    if ((output.output_type != \"display_data\") || (!output.data.hasOwnProperty(EXEC_MIME_TYPE))) {\n",
       "      return\n",
       "    }\n",
       "\n",
       "    var toinsert = output_area.element.find(\".\" + CLASS_NAME.split(' ')[0]);\n",
       "\n",
       "    if (output.metadata[EXEC_MIME_TYPE][\"id\"] !== undefined) {\n",
       "      toinsert[toinsert.length - 1].firstChild.textContent = output.data[JS_MIME_TYPE];\n",
       "      // store reference to embed id on output_area\n",
       "      output_area._bokeh_element_id = output.metadata[EXEC_MIME_TYPE][\"id\"];\n",
       "    }\n",
       "    if (output.metadata[EXEC_MIME_TYPE][\"server_id\"] !== undefined) {\n",
       "      var bk_div = document.createElement(\"div\");\n",
       "      bk_div.innerHTML = output.data[HTML_MIME_TYPE];\n",
       "      var script_attrs = bk_div.children[0].attributes;\n",
       "      for (var i = 0; i < script_attrs.length; i++) {\n",
       "        toinsert[toinsert.length - 1].firstChild.setAttribute(script_attrs[i].name, script_attrs[i].value);\n",
       "      }\n",
       "      // store reference to server id on output_area\n",
       "      output_area._bokeh_server_id = output.metadata[EXEC_MIME_TYPE][\"server_id\"];\n",
       "    }\n",
       "  }\n",
       "\n",
       "  function register_renderer(events, OutputArea) {\n",
       "\n",
       "    function append_mime(data, metadata, element) {\n",
       "      // create a DOM node to render to\n",
       "      var toinsert = this.create_output_subarea(\n",
       "        metadata,\n",
       "        CLASS_NAME,\n",
       "        EXEC_MIME_TYPE\n",
       "      );\n",
       "      this.keyboard_manager.register_events(toinsert);\n",
       "      // Render to node\n",
       "      var props = {data: data, metadata: metadata[EXEC_MIME_TYPE]};\n",
       "      render(props, toinsert[toinsert.length - 1]);\n",
       "      element.append(toinsert);\n",
       "      return toinsert\n",
       "    }\n",
       "\n",
       "    /* Handle when an output is cleared or removed */\n",
       "    events.on('clear_output.CodeCell', handleClearOutput);\n",
       "    events.on('delete.Cell', handleClearOutput);\n",
       "\n",
       "    /* Handle when a new output is added */\n",
       "    events.on('output_added.OutputArea', handleAddOutput);\n",
       "\n",
       "    /**\n",
       "     * Register the mime type and append_mime function with output_area\n",
       "     */\n",
       "    OutputArea.prototype.register_mime_type(EXEC_MIME_TYPE, append_mime, {\n",
       "      /* Is output safe? */\n",
       "      safe: true,\n",
       "      /* Index of renderer in `output_area.display_order` */\n",
       "      index: 0\n",
       "    });\n",
       "  }\n",
       "\n",
       "  // register the mime type if in Jupyter Notebook environment and previously unregistered\n",
       "  if (root.Jupyter !== undefined) {\n",
       "    var events = require('base/js/events');\n",
       "    var OutputArea = require('notebook/js/outputarea').OutputArea;\n",
       "\n",
       "    if (OutputArea.prototype.mime_types().indexOf(EXEC_MIME_TYPE) == -1) {\n",
       "      register_renderer(events, OutputArea);\n",
       "    }\n",
       "  }\n",
       "\n",
       "  \n",
       "  if (typeof (root._bokeh_timeout) === \"undefined\" || force === true) {\n",
       "    root._bokeh_timeout = Date.now() + 5000;\n",
       "    root._bokeh_failed_load = false;\n",
       "  }\n",
       "\n",
       "  var NB_LOAD_WARNING = {'data': {'text/html':\n",
       "     \"<div style='background-color: #fdd'>\\n\"+\n",
       "     \"<p>\\n\"+\n",
       "     \"BokehJS does not appear to have successfully loaded. If loading BokehJS from CDN, this \\n\"+\n",
       "     \"may be due to a slow or bad network connection. Possible fixes:\\n\"+\n",
       "     \"</p>\\n\"+\n",
       "     \"<ul>\\n\"+\n",
       "     \"<li>re-rerun `output_notebook()` to attempt to load from CDN again, or</li>\\n\"+\n",
       "     \"<li>use INLINE resources instead, as so:</li>\\n\"+\n",
       "     \"</ul>\\n\"+\n",
       "     \"<code>\\n\"+\n",
       "     \"from bokeh.resources import INLINE\\n\"+\n",
       "     \"output_notebook(resources=INLINE)\\n\"+\n",
       "     \"</code>\\n\"+\n",
       "     \"</div>\"}};\n",
       "\n",
       "  function display_loaded() {\n",
       "    var el = document.getElementById(\"1001\");\n",
       "    if (el != null) {\n",
       "      el.textContent = \"BokehJS is loading...\";\n",
       "    }\n",
       "    if (root.Bokeh !== undefined) {\n",
       "      if (el != null) {\n",
       "        el.textContent = \"BokehJS \" + root.Bokeh.version + \" successfully loaded.\";\n",
       "      }\n",
       "    } else if (Date.now() < root._bokeh_timeout) {\n",
       "      setTimeout(display_loaded, 100)\n",
       "    }\n",
       "  }\n",
       "\n",
       "\n",
       "  function run_callbacks() {\n",
       "    try {\n",
       "      root._bokeh_onload_callbacks.forEach(function(callback) { callback() });\n",
       "    }\n",
       "    finally {\n",
       "      delete root._bokeh_onload_callbacks\n",
       "    }\n",
       "    console.info(\"Bokeh: all callbacks have finished\");\n",
       "  }\n",
       "\n",
       "  function load_libs(js_urls, callback) {\n",
       "    root._bokeh_onload_callbacks.push(callback);\n",
       "    if (root._bokeh_is_loading > 0) {\n",
       "      console.log(\"Bokeh: BokehJS is being loaded, scheduling callback at\", now());\n",
       "      return null;\n",
       "    }\n",
       "    if (js_urls == null || js_urls.length === 0) {\n",
       "      run_callbacks();\n",
       "      return null;\n",
       "    }\n",
       "    console.log(\"Bokeh: BokehJS not loaded, scheduling load and callback at\", now());\n",
       "    root._bokeh_is_loading = js_urls.length;\n",
       "    for (var i = 0; i < js_urls.length; i++) {\n",
       "      var url = js_urls[i];\n",
       "      var s = document.createElement('script');\n",
       "      s.src = url;\n",
       "      s.async = false;\n",
       "      s.onreadystatechange = s.onload = function() {\n",
       "        root._bokeh_is_loading--;\n",
       "        if (root._bokeh_is_loading === 0) {\n",
       "          console.log(\"Bokeh: all BokehJS libraries loaded\");\n",
       "          run_callbacks()\n",
       "        }\n",
       "      };\n",
       "      s.onerror = function() {\n",
       "        console.warn(\"failed to load library \" + url);\n",
       "      };\n",
       "      console.log(\"Bokeh: injecting script tag for BokehJS library: \", url);\n",
       "      document.getElementsByTagName(\"head\")[0].appendChild(s);\n",
       "    }\n",
       "  };var element = document.getElementById(\"1001\");\n",
       "  if (element == null) {\n",
       "    console.log(\"Bokeh: ERROR: autoload.js configured with elementid '1001' but no matching script tag was found. \")\n",
       "    return false;\n",
       "  }\n",
       "\n",
       "  var js_urls = [\"https://cdn.pydata.org/bokeh/release/bokeh-1.0.4.min.js\", \"https://cdn.pydata.org/bokeh/release/bokeh-widgets-1.0.4.min.js\", \"https://cdn.pydata.org/bokeh/release/bokeh-tables-1.0.4.min.js\", \"https://cdn.pydata.org/bokeh/release/bokeh-gl-1.0.4.min.js\"];\n",
       "\n",
       "  var inline_js = [\n",
       "    function(Bokeh) {\n",
       "      Bokeh.set_log_level(\"info\");\n",
       "    },\n",
       "    \n",
       "    function(Bokeh) {\n",
       "      \n",
       "    },\n",
       "    function(Bokeh) {\n",
       "      console.log(\"Bokeh: injecting CSS: https://cdn.pydata.org/bokeh/release/bokeh-1.0.4.min.css\");\n",
       "      Bokeh.embed.inject_css(\"https://cdn.pydata.org/bokeh/release/bokeh-1.0.4.min.css\");\n",
       "      console.log(\"Bokeh: injecting CSS: https://cdn.pydata.org/bokeh/release/bokeh-widgets-1.0.4.min.css\");\n",
       "      Bokeh.embed.inject_css(\"https://cdn.pydata.org/bokeh/release/bokeh-widgets-1.0.4.min.css\");\n",
       "      console.log(\"Bokeh: injecting CSS: https://cdn.pydata.org/bokeh/release/bokeh-tables-1.0.4.min.css\");\n",
       "      Bokeh.embed.inject_css(\"https://cdn.pydata.org/bokeh/release/bokeh-tables-1.0.4.min.css\");\n",
       "    }\n",
       "  ];\n",
       "\n",
       "  function run_inline_js() {\n",
       "    \n",
       "    if ((root.Bokeh !== undefined) || (force === true)) {\n",
       "      for (var i = 0; i < inline_js.length; i++) {\n",
       "        inline_js[i].call(root, root.Bokeh);\n",
       "      }if (force === true) {\n",
       "        display_loaded();\n",
       "      }} else if (Date.now() < root._bokeh_timeout) {\n",
       "      setTimeout(run_inline_js, 100);\n",
       "    } else if (!root._bokeh_failed_load) {\n",
       "      console.log(\"Bokeh: BokehJS failed to load within specified timeout.\");\n",
       "      root._bokeh_failed_load = true;\n",
       "    } else if (force !== true) {\n",
       "      var cell = $(document.getElementById(\"1001\")).parents('.cell').data().cell;\n",
       "      cell.output_area.append_execute_result(NB_LOAD_WARNING)\n",
       "    }\n",
       "\n",
       "  }\n",
       "\n",
       "  if (root._bokeh_is_loading === 0) {\n",
       "    console.log(\"Bokeh: BokehJS loaded, going straight to plotting\");\n",
       "    run_inline_js();\n",
       "  } else {\n",
       "    load_libs(js_urls, function() {\n",
       "      console.log(\"Bokeh: BokehJS plotting callback run at\", now());\n",
       "      run_inline_js();\n",
       "    });\n",
       "  }\n",
       "}(window));"
      ],
      "application/vnd.bokehjs_load.v0+json": "\n(function(root) {\n  function now() {\n    return new Date();\n  }\n\n  var force = true;\n\n  if (typeof (root._bokeh_onload_callbacks) === \"undefined\" || force === true) {\n    root._bokeh_onload_callbacks = [];\n    root._bokeh_is_loading = undefined;\n  }\n\n  \n\n  \n  if (typeof (root._bokeh_timeout) === \"undefined\" || force === true) {\n    root._bokeh_timeout = Date.now() + 5000;\n    root._bokeh_failed_load = false;\n  }\n\n  var NB_LOAD_WARNING = {'data': {'text/html':\n     \"<div style='background-color: #fdd'>\\n\"+\n     \"<p>\\n\"+\n     \"BokehJS does not appear to have successfully loaded. If loading BokehJS from CDN, this \\n\"+\n     \"may be due to a slow or bad network connection. Possible fixes:\\n\"+\n     \"</p>\\n\"+\n     \"<ul>\\n\"+\n     \"<li>re-rerun `output_notebook()` to attempt to load from CDN again, or</li>\\n\"+\n     \"<li>use INLINE resources instead, as so:</li>\\n\"+\n     \"</ul>\\n\"+\n     \"<code>\\n\"+\n     \"from bokeh.resources import INLINE\\n\"+\n     \"output_notebook(resources=INLINE)\\n\"+\n     \"</code>\\n\"+\n     \"</div>\"}};\n\n  function display_loaded() {\n    var el = document.getElementById(\"1001\");\n    if (el != null) {\n      el.textContent = \"BokehJS is loading...\";\n    }\n    if (root.Bokeh !== undefined) {\n      if (el != null) {\n        el.textContent = \"BokehJS \" + root.Bokeh.version + \" successfully loaded.\";\n      }\n    } else if (Date.now() < root._bokeh_timeout) {\n      setTimeout(display_loaded, 100)\n    }\n  }\n\n\n  function run_callbacks() {\n    try {\n      root._bokeh_onload_callbacks.forEach(function(callback) { callback() });\n    }\n    finally {\n      delete root._bokeh_onload_callbacks\n    }\n    console.info(\"Bokeh: all callbacks have finished\");\n  }\n\n  function load_libs(js_urls, callback) {\n    root._bokeh_onload_callbacks.push(callback);\n    if (root._bokeh_is_loading > 0) {\n      console.log(\"Bokeh: BokehJS is being loaded, scheduling callback at\", now());\n      return null;\n    }\n    if (js_urls == null || js_urls.length === 0) {\n      run_callbacks();\n      return null;\n    }\n    console.log(\"Bokeh: BokehJS not loaded, scheduling load and callback at\", now());\n    root._bokeh_is_loading = js_urls.length;\n    for (var i = 0; i < js_urls.length; i++) {\n      var url = js_urls[i];\n      var s = document.createElement('script');\n      s.src = url;\n      s.async = false;\n      s.onreadystatechange = s.onload = function() {\n        root._bokeh_is_loading--;\n        if (root._bokeh_is_loading === 0) {\n          console.log(\"Bokeh: all BokehJS libraries loaded\");\n          run_callbacks()\n        }\n      };\n      s.onerror = function() {\n        console.warn(\"failed to load library \" + url);\n      };\n      console.log(\"Bokeh: injecting script tag for BokehJS library: \", url);\n      document.getElementsByTagName(\"head\")[0].appendChild(s);\n    }\n  };var element = document.getElementById(\"1001\");\n  if (element == null) {\n    console.log(\"Bokeh: ERROR: autoload.js configured with elementid '1001' but no matching script tag was found. \")\n    return false;\n  }\n\n  var js_urls = [\"https://cdn.pydata.org/bokeh/release/bokeh-1.0.4.min.js\", \"https://cdn.pydata.org/bokeh/release/bokeh-widgets-1.0.4.min.js\", \"https://cdn.pydata.org/bokeh/release/bokeh-tables-1.0.4.min.js\", \"https://cdn.pydata.org/bokeh/release/bokeh-gl-1.0.4.min.js\"];\n\n  var inline_js = [\n    function(Bokeh) {\n      Bokeh.set_log_level(\"info\");\n    },\n    \n    function(Bokeh) {\n      \n    },\n    function(Bokeh) {\n      console.log(\"Bokeh: injecting CSS: https://cdn.pydata.org/bokeh/release/bokeh-1.0.4.min.css\");\n      Bokeh.embed.inject_css(\"https://cdn.pydata.org/bokeh/release/bokeh-1.0.4.min.css\");\n      console.log(\"Bokeh: injecting CSS: https://cdn.pydata.org/bokeh/release/bokeh-widgets-1.0.4.min.css\");\n      Bokeh.embed.inject_css(\"https://cdn.pydata.org/bokeh/release/bokeh-widgets-1.0.4.min.css\");\n      console.log(\"Bokeh: injecting CSS: https://cdn.pydata.org/bokeh/release/bokeh-tables-1.0.4.min.css\");\n      Bokeh.embed.inject_css(\"https://cdn.pydata.org/bokeh/release/bokeh-tables-1.0.4.min.css\");\n    }\n  ];\n\n  function run_inline_js() {\n    \n    if ((root.Bokeh !== undefined) || (force === true)) {\n      for (var i = 0; i < inline_js.length; i++) {\n        inline_js[i].call(root, root.Bokeh);\n      }if (force === true) {\n        display_loaded();\n      }} else if (Date.now() < root._bokeh_timeout) {\n      setTimeout(run_inline_js, 100);\n    } else if (!root._bokeh_failed_load) {\n      console.log(\"Bokeh: BokehJS failed to load within specified timeout.\");\n      root._bokeh_failed_load = true;\n    } else if (force !== true) {\n      var cell = $(document.getElementById(\"1001\")).parents('.cell').data().cell;\n      cell.output_area.append_execute_result(NB_LOAD_WARNING)\n    }\n\n  }\n\n  if (root._bokeh_is_loading === 0) {\n    console.log(\"Bokeh: BokehJS loaded, going straight to plotting\");\n    run_inline_js();\n  } else {\n    load_libs(js_urls, function() {\n      console.log(\"Bokeh: BokehJS plotting callback run at\", now());\n      run_inline_js();\n    });\n  }\n}(window));"
     },
     "metadata": {},
     "output_type": "display_data"
    },
    {
     "data": {
      "text/html": [
       "\n",
       "\n",
       "\n",
       "\n",
       "\n",
       "\n",
       "  <div class=\"bk-root\" id=\"eb8b762e-dd4d-4e9e-ad20-0d530a954477\" data-root-id=\"1003\"></div>\n"
      ]
     },
     "metadata": {},
     "output_type": "display_data"
    },
    {
     "data": {
      "application/javascript": [
       "(function(root) {\n",
       "  function embed_document(root) {\n",
       "    \n",
       "  var docs_json = {\"0d3f48cd-490c-485f-a8de-98d05853dd3c\":{\"roots\":{\"references\":[{\"attributes\":{\"below\":[{\"id\":\"1012\",\"type\":\"LinearAxis\"}],\"left\":[{\"id\":\"1017\",\"type\":\"LinearAxis\"}],\"plot_height\":400,\"renderers\":[{\"id\":\"1012\",\"type\":\"LinearAxis\"},{\"id\":\"1016\",\"type\":\"Grid\"},{\"id\":\"1017\",\"type\":\"LinearAxis\"},{\"id\":\"1021\",\"type\":\"Grid\"},{\"id\":\"1031\",\"type\":\"BoxAnnotation\"},{\"id\":\"1042\",\"type\":\"GlyphRenderer\"}],\"title\":{\"id\":\"1045\",\"type\":\"Title\"},\"toolbar\":{\"id\":\"1029\",\"type\":\"Toolbar\"},\"x_range\":{\"id\":\"1004\",\"type\":\"DataRange1d\"},\"x_scale\":{\"id\":\"1008\",\"type\":\"LinearScale\"},\"y_range\":{\"id\":\"1006\",\"type\":\"DataRange1d\"},\"y_scale\":{\"id\":\"1010\",\"type\":\"LinearScale\"}},\"id\":\"1003\",\"subtype\":\"Figure\",\"type\":\"Plot\"},{\"attributes\":{\"fill_alpha\":{\"value\":0.5},\"fill_color\":{\"value\":\"blue\"},\"line_alpha\":{\"value\":0.5},\"line_color\":{\"value\":\"blue\"},\"size\":{\"units\":\"screen\",\"value\":8},\"x\":{\"field\":\"x\"},\"y\":{\"field\":\"y\"}},\"id\":\"1040\",\"type\":\"Circle\"},{\"attributes\":{\"fill_alpha\":{\"value\":0.1},\"fill_color\":{\"value\":\"#1f77b4\"},\"line_alpha\":{\"value\":0.1},\"line_color\":{\"value\":\"#1f77b4\"},\"size\":{\"units\":\"screen\",\"value\":8},\"x\":{\"field\":\"x\"},\"y\":{\"field\":\"y\"}},\"id\":\"1041\",\"type\":\"Circle\"},{\"attributes\":{},\"id\":\"1022\",\"type\":\"PanTool\"},{\"attributes\":{},\"id\":\"1023\",\"type\":\"WheelZoomTool\"},{\"attributes\":{\"callback\":null,\"data\":{\"make\":[\"alfa-romero\",\"alfa-romero\",\"alfa-romero\",\"audi\",\"audi\",\"audi\",\"audi\",\"audi\",\"audi\",\"bmw\",\"bmw\",\"bmw\",\"bmw\",\"bmw\",\"bmw\",\"bmw\",\"bmw\",\"chevrolet\",\"chevrolet\",\"chevrolet\",\"dodge\",\"dodge\",\"dodge\",\"dodge\",\"dodge\",\"dodge\",\"dodge\",\"dodge\",\"dodge\",\"honda\",\"honda\",\"honda\",\"honda\",\"honda\",\"honda\",\"honda\",\"honda\",\"honda\",\"honda\",\"honda\",\"honda\",\"honda\",\"isuzu\",\"isuzu\",\"jaguar\",\"jaguar\",\"jaguar\",\"mazda\",\"mazda\",\"mazda\",\"mazda\",\"mazda\",\"mazda\",\"mazda\",\"mazda\",\"mazda\",\"mazda\",\"mazda\",\"mazda\",\"mazda\",\"mazda\",\"mazda\",\"mazda\",\"mazda\",\"mercedes-benz\",\"mercedes-benz\",\"mercedes-benz\",\"mercedes-benz\",\"mercedes-benz\",\"mercedes-benz\",\"mercedes-benz\",\"mercedes-benz\",\"mercury\",\"mitsubishi\",\"mitsubishi\",\"mitsubishi\",\"mitsubishi\",\"mitsubishi\",\"mitsubishi\",\"mitsubishi\",\"mitsubishi\",\"mitsubishi\",\"mitsubishi\",\"mitsubishi\",\"mitsubishi\",\"mitsubishi\",\"nissan\",\"nissan\",\"nissan\",\"nissan\",\"nissan\",\"nissan\",\"nissan\",\"nissan\",\"nissan\",\"nissan\",\"nissan\",\"nissan\",\"nissan\",\"nissan\",\"nissan\",\"nissan\",\"nissan\",\"nissan\",\"peugot\",\"peugot\",\"peugot\",\"peugot\",\"peugot\",\"peugot\",\"peugot\",\"peugot\",\"peugot\",\"peugot\",\"peugot\",\"plymouth\",\"plymouth\",\"plymouth\",\"plymouth\",\"plymouth\",\"plymouth\",\"plymouth\",\"porsche\",\"porsche\",\"porsche\",\"porsche\",\"saab\",\"saab\",\"saab\",\"saab\",\"saab\",\"saab\",\"subaru\",\"subaru\",\"subaru\",\"subaru\",\"subaru\",\"subaru\",\"subaru\",\"subaru\",\"subaru\",\"subaru\",\"subaru\",\"subaru\",\"toyota\",\"toyota\",\"toyota\",\"toyota\",\"toyota\",\"toyota\",\"toyota\",\"toyota\",\"toyota\",\"toyota\",\"toyota\",\"toyota\",\"toyota\",\"toyota\",\"toyota\",\"toyota\",\"toyota\",\"toyota\",\"toyota\",\"toyota\",\"toyota\",\"toyota\",\"toyota\",\"toyota\",\"toyota\",\"toyota\",\"toyota\",\"toyota\",\"toyota\",\"toyota\",\"toyota\",\"toyota\",\"volkswagen\",\"volkswagen\",\"volkswagen\",\"volkswagen\",\"volkswagen\",\"volkswagen\",\"volkswagen\",\"volkswagen\",\"volkswagen\",\"volkswagen\",\"volkswagen\",\"volkswagen\",\"volvo\",\"volvo\",\"volvo\",\"volvo\",\"volvo\",\"volvo\",\"volvo\",\"volvo\",\"volvo\",\"volvo\",\"volvo\"],\"x\":{\"__ndarray__\":\"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\",\"dtype\":\"float64\",\"shape\":[199]},\"y\":{\"__ndarray__\":\"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\",\"dtype\":\"float64\",\"shape\":[199]}},\"selected\":{\"id\":\"1051\",\"type\":\"Selection\"},\"selection_policy\":{\"id\":\"1052\",\"type\":\"UnionRenderers\"}},\"id\":\"1002\",\"type\":\"ColumnDataSource\"},{\"attributes\":{\"overlay\":{\"id\":\"1031\",\"type\":\"BoxAnnotation\"}},\"id\":\"1024\",\"type\":\"BoxZoomTool\"},{\"attributes\":{},\"id\":\"1025\",\"type\":\"SaveTool\"},{\"attributes\":{},\"id\":\"1026\",\"type\":\"ResetTool\"},{\"attributes\":{},\"id\":\"1027\",\"type\":\"HelpTool\"},{\"attributes\":{\"callback\":null},\"id\":\"1004\",\"type\":\"DataRange1d\"},{\"attributes\":{\"callback\":null,\"tooltips\":[[\"make\",\"@make\"],[\"horsepower\",\"$x\"],[\"price\",\"$y{$0}\"]]},\"id\":\"1028\",\"type\":\"HoverTool\"},{\"attributes\":{\"data_source\":{\"id\":\"1002\",\"type\":\"ColumnDataSource\"},\"glyph\":{\"id\":\"1040\",\"type\":\"Circle\"},\"hover_glyph\":null,\"muted_glyph\":null,\"nonselection_glyph\":{\"id\":\"1041\",\"type\":\"Circle\"},\"selection_glyph\":null,\"view\":{\"id\":\"1043\",\"type\":\"CDSView\"}},\"id\":\"1042\",\"type\":\"GlyphRenderer\"},{\"attributes\":{\"callback\":null},\"id\":\"1006\",\"type\":\"DataRange1d\"},{\"attributes\":{},\"id\":\"1008\",\"type\":\"LinearScale\"},{\"attributes\":{\"bottom_units\":\"screen\",\"fill_alpha\":{\"value\":0.5},\"fill_color\":{\"value\":\"lightgrey\"},\"left_units\":\"screen\",\"level\":\"overlay\",\"line_alpha\":{\"value\":1.0},\"line_color\":{\"value\":\"black\"},\"line_dash\":[4,4],\"line_width\":{\"value\":2},\"plot\":null,\"render_mode\":\"css\",\"right_units\":\"screen\",\"top_units\":\"screen\"},\"id\":\"1031\",\"type\":\"BoxAnnotation\"},{\"attributes\":{},\"id\":\"1010\",\"type\":\"LinearScale\"},{\"attributes\":{\"source\":{\"id\":\"1002\",\"type\":\"ColumnDataSource\"}},\"id\":\"1043\",\"type\":\"CDSView\"},{\"attributes\":{\"axis_label\":\"Horsepower\",\"formatter\":{\"id\":\"1047\",\"type\":\"BasicTickFormatter\"},\"plot\":{\"id\":\"1003\",\"subtype\":\"Figure\",\"type\":\"Plot\"},\"ticker\":{\"id\":\"1013\",\"type\":\"BasicTicker\"}},\"id\":\"1012\",\"type\":\"LinearAxis\"},{\"attributes\":{},\"id\":\"1013\",\"type\":\"BasicTicker\"},{\"attributes\":{\"plot\":null,\"text\":\"\"},\"id\":\"1045\",\"type\":\"Title\"},{\"attributes\":{\"axis_label\":\"Price\",\"formatter\":{\"id\":\"1049\",\"type\":\"BasicTickFormatter\"},\"plot\":{\"id\":\"1003\",\"subtype\":\"Figure\",\"type\":\"Plot\"},\"ticker\":{\"id\":\"1018\",\"type\":\"BasicTicker\"}},\"id\":\"1017\",\"type\":\"LinearAxis\"},{\"attributes\":{},\"id\":\"1047\",\"type\":\"BasicTickFormatter\"},{\"attributes\":{\"plot\":{\"id\":\"1003\",\"subtype\":\"Figure\",\"type\":\"Plot\"},\"ticker\":{\"id\":\"1013\",\"type\":\"BasicTicker\"}},\"id\":\"1016\",\"type\":\"Grid\"},{\"attributes\":{},\"id\":\"1049\",\"type\":\"BasicTickFormatter\"},{\"attributes\":{},\"id\":\"1018\",\"type\":\"BasicTicker\"},{\"attributes\":{},\"id\":\"1051\",\"type\":\"Selection\"},{\"attributes\":{\"dimension\":1,\"plot\":{\"id\":\"1003\",\"subtype\":\"Figure\",\"type\":\"Plot\"},\"ticker\":{\"id\":\"1018\",\"type\":\"BasicTicker\"}},\"id\":\"1021\",\"type\":\"Grid\"},{\"attributes\":{},\"id\":\"1052\",\"type\":\"UnionRenderers\"},{\"attributes\":{\"active_drag\":\"auto\",\"active_inspect\":\"auto\",\"active_multi\":null,\"active_scroll\":\"auto\",\"active_tap\":\"auto\",\"tools\":[{\"id\":\"1022\",\"type\":\"PanTool\"},{\"id\":\"1023\",\"type\":\"WheelZoomTool\"},{\"id\":\"1024\",\"type\":\"BoxZoomTool\"},{\"id\":\"1025\",\"type\":\"SaveTool\"},{\"id\":\"1026\",\"type\":\"ResetTool\"},{\"id\":\"1027\",\"type\":\"HelpTool\"},{\"id\":\"1028\",\"type\":\"HoverTool\"}]},\"id\":\"1029\",\"type\":\"Toolbar\"}],\"root_ids\":[\"1003\"]},\"title\":\"Bokeh Application\",\"version\":\"1.0.4\"}};\n",
       "  var render_items = [{\"docid\":\"0d3f48cd-490c-485f-a8de-98d05853dd3c\",\"roots\":{\"1003\":\"eb8b762e-dd4d-4e9e-ad20-0d530a954477\"}}];\n",
       "  root.Bokeh.embed.embed_items_notebook(docs_json, render_items);\n",
       "\n",
       "  }\n",
       "  if (root.Bokeh !== undefined) {\n",
       "    embed_document(root);\n",
       "  } else {\n",
       "    var attempts = 0;\n",
       "    var timer = setInterval(function(root) {\n",
       "      if (root.Bokeh !== undefined) {\n",
       "        embed_document(root);\n",
       "        clearInterval(timer);\n",
       "      }\n",
       "      attempts++;\n",
       "      if (attempts > 100) {\n",
       "        console.log(\"Bokeh: ERROR: Unable to run BokehJS code because BokehJS library is missing\");\n",
       "        clearInterval(timer);\n",
       "      }\n",
       "    }, 10, root)\n",
       "  }\n",
       "})(window);"
      ],
      "application/vnd.bokehjs_exec.v0+json": ""
     },
     "metadata": {
      "application/vnd.bokehjs_exec.v0+json": {
       "id": "1003"
      }
     },
     "output_type": "display_data"
    }
   ],
   "source": [
    "# Graph the datapoints using bokeh to visualize linear relationship\n",
    "\n",
    "from bokeh.io import output_notebook\n",
    "from bokeh.plotting import ColumnDataSource, figure, show\n",
    "\n",
    "# enable notebook output\n",
    "output_notebook()\n",
    "\n",
    "source = ColumnDataSource(data=dict(\n",
    "    x=data['horsepower'],\n",
    "    y=data['price'],\n",
    "    make=data['make'],\n",
    "))\n",
    "\n",
    "tooltips = [\n",
    "    ('make', '@make'),\n",
    "    ('horsepower', '$x'),\n",
    "    ('price', '$y{$0}')\n",
    "]\n",
    "\n",
    "p = figure(plot_width=600, plot_height=400, tooltips=tooltips)\n",
    "p.xaxis.axis_label = 'Horsepower'\n",
    "p.yaxis.axis_label = 'Price'\n",
    "\n",
    "# add a square renderer with a size, color, and alpha\n",
    "p.circle('x', 'y', source=source, size=8, color='blue', alpha=0.5)\n",
    "\n",
    "# show the results\n",
    "show(p)"
   ]
  },
  {
   "cell_type": "markdown",
   "metadata": {},
   "source": [
    "# Simple Linear Regression"
   ]
  },
  {
   "cell_type": "markdown",
   "metadata": {
    "heading_collapsed": true
   },
   "source": [
    "## Perform linear regression on 1 dependent and 1 independent variables"
   ]
  },
  {
   "cell_type": "code",
   "execution_count": 40,
   "metadata": {
    "ExecuteTime": {
     "end_time": "2019-08-05T21:22:28.347197Z",
     "start_time": "2019-08-05T21:22:28.337224Z"
    },
    "_uuid": "1330d40b4bad67f92429b2b90543b3ede0b34bdf",
    "hidden": true
   },
   "outputs": [
    {
     "name": "stdout",
     "output_type": "stream",
     "text": [
      "slope: 171.94201139055204 intercept: -4847.45544876098\n"
     ]
    }
   ],
   "source": [
    "# split our data into train (75%) and test (25%) sets\n",
    "from sklearn.model_selection import train_test_split\n",
    "train, test = train_test_split(data, test_size=0.25)\n",
    "\n",
    "from sklearn import linear_model\n",
    "model = linear_model.LinearRegression()\n",
    "\n",
    "# the linear regression model expects a 2d array, so we add an extra dimension with reshape\n",
    "# input: [1, 2, 3], output: [ [1], [2], [3] ]\n",
    "# this allows us to regress on multiple independent variables later\n",
    "training_x = np.array(train['horsepower']).reshape(-1, 1)\n",
    "training_y = np.array(train['price'])\n",
    "\n",
    "# perform linear regression\n",
    "model.fit(training_x, training_y)\n",
    "\n",
    "# output is a nested array in the form of [ [1] ]\n",
    "# squeeze removes all zero dimensions -> [1]\n",
    "# asscalar turns a single number array into a number -> 1\n",
    "slope = np.asscalar(np.squeeze(model.coef_))\n",
    "intercept = model.intercept_\n",
    "print('slope:', slope, 'intercept:', intercept)"
   ]
  },
  {
   "cell_type": "code",
   "execution_count": 41,
   "metadata": {
    "ExecuteTime": {
     "end_time": "2019-08-05T21:22:28.889752Z",
     "start_time": "2019-08-05T21:22:28.884760Z"
    },
    "hidden": true
   },
   "outputs": [
    {
     "data": {
      "text/plain": [
       "array([171.94201139])"
      ]
     },
     "execution_count": 41,
     "metadata": {},
     "output_type": "execute_result"
    }
   ],
   "source": [
    "model.coef_"
   ]
  },
  {
   "cell_type": "code",
   "execution_count": 42,
   "metadata": {
    "ExecuteTime": {
     "end_time": "2019-08-05T21:22:29.383427Z",
     "start_time": "2019-08-05T21:22:29.377443Z"
    },
    "hidden": true
   },
   "outputs": [
    {
     "data": {
      "text/plain": [
       "array(171.94201139)"
      ]
     },
     "execution_count": 42,
     "metadata": {},
     "output_type": "execute_result"
    }
   ],
   "source": [
    "np.squeeze(model.coef_)"
   ]
  },
  {
   "cell_type": "code",
   "execution_count": 43,
   "metadata": {
    "ExecuteTime": {
     "end_time": "2019-08-05T21:22:29.860158Z",
     "start_time": "2019-08-05T21:22:29.855166Z"
    },
    "hidden": true
   },
   "outputs": [
    {
     "data": {
      "text/plain": [
       "-4847.45544876098"
      ]
     },
     "execution_count": 43,
     "metadata": {},
     "output_type": "execute_result"
    }
   ],
   "source": [
    "model.intercept_"
   ]
  },
  {
   "cell_type": "code",
   "execution_count": 44,
   "metadata": {
    "ExecuteTime": {
     "end_time": "2019-08-05T21:22:30.417672Z",
     "start_time": "2019-08-05T21:22:30.385748Z"
    },
    "_uuid": "8ed62f779fb299e04f59c8c7447fbc14ff34cf71",
    "hidden": true
   },
   "outputs": [
    {
     "data": {
      "text/html": [
       "\n",
       "\n",
       "\n",
       "\n",
       "\n",
       "\n",
       "  <div class=\"bk-root\" id=\"acce6874-b1f8-4fef-934b-d17c3017c607\" data-root-id=\"1003\"></div>\n"
      ]
     },
     "metadata": {},
     "output_type": "display_data"
    },
    {
     "data": {
      "application/javascript": [
       "(function(root) {\n",
       "  function embed_document(root) {\n",
       "    \n",
       "  var docs_json = {\"8ab85259-5d73-4f11-b78c-062dab2d90d2\":{\"roots\":{\"references\":[{\"attributes\":{\"below\":[{\"id\":\"1012\",\"type\":\"LinearAxis\"}],\"left\":[{\"id\":\"1017\",\"type\":\"LinearAxis\"}],\"plot_height\":400,\"renderers\":[{\"id\":\"1012\",\"type\":\"LinearAxis\"},{\"id\":\"1016\",\"type\":\"Grid\"},{\"id\":\"1017\",\"type\":\"LinearAxis\"},{\"id\":\"1021\",\"type\":\"Grid\"},{\"id\":\"1031\",\"type\":\"BoxAnnotation\"},{\"id\":\"1042\",\"type\":\"GlyphRenderer\"},{\"id\":\"1107\",\"type\":\"Slope\"},{\"id\":\"1171\",\"type\":\"Slope\"},{\"id\":\"1235\",\"type\":\"Slope\"},{\"id\":\"1299\",\"type\":\"Slope\"}],\"title\":{\"id\":\"1045\",\"type\":\"Title\"},\"toolbar\":{\"id\":\"1029\",\"type\":\"Toolbar\"},\"x_range\":{\"id\":\"1004\",\"type\":\"DataRange1d\"},\"x_scale\":{\"id\":\"1008\",\"type\":\"LinearScale\"},\"y_range\":{\"id\":\"1006\",\"type\":\"DataRange1d\"},\"y_scale\":{\"id\":\"1010\",\"type\":\"LinearScale\"}},\"id\":\"1003\",\"subtype\":\"Figure\",\"type\":\"Plot\"},{\"attributes\":{\"fill_alpha\":{\"value\":0.5},\"fill_color\":{\"value\":\"blue\"},\"line_alpha\":{\"value\":0.5},\"line_color\":{\"value\":\"blue\"},\"size\":{\"units\":\"screen\",\"value\":8},\"x\":{\"field\":\"x\"},\"y\":{\"field\":\"y\"}},\"id\":\"1040\",\"type\":\"Circle\"},{\"attributes\":{\"gradient\":171.94201139055204,\"line_color\":{\"value\":\"red\"},\"line_width\":{\"value\":3},\"plot\":{\"id\":\"1003\",\"subtype\":\"Figure\",\"type\":\"Plot\"},\"y_intercept\":-4847.45544876098},\"id\":\"1299\",\"type\":\"Slope\"},{\"attributes\":{\"fill_alpha\":{\"value\":0.1},\"fill_color\":{\"value\":\"#1f77b4\"},\"line_alpha\":{\"value\":0.1},\"line_color\":{\"value\":\"#1f77b4\"},\"size\":{\"units\":\"screen\",\"value\":8},\"x\":{\"field\":\"x\"},\"y\":{\"field\":\"y\"}},\"id\":\"1041\",\"type\":\"Circle\"},{\"attributes\":{},\"id\":\"1022\",\"type\":\"PanTool\"},{\"attributes\":{},\"id\":\"1023\",\"type\":\"WheelZoomTool\"},{\"attributes\":{\"callback\":null,\"data\":{\"make\":[\"alfa-romero\",\"alfa-romero\",\"alfa-romero\",\"audi\",\"audi\",\"audi\",\"audi\",\"audi\",\"audi\",\"bmw\",\"bmw\",\"bmw\",\"bmw\",\"bmw\",\"bmw\",\"bmw\",\"bmw\",\"chevrolet\",\"chevrolet\",\"chevrolet\",\"dodge\",\"dodge\",\"dodge\",\"dodge\",\"dodge\",\"dodge\",\"dodge\",\"dodge\",\"dodge\",\"honda\",\"honda\",\"honda\",\"honda\",\"honda\",\"honda\",\"honda\",\"honda\",\"honda\",\"honda\",\"honda\",\"honda\",\"honda\",\"isuzu\",\"isuzu\",\"jaguar\",\"jaguar\",\"jaguar\",\"mazda\",\"mazda\",\"mazda\",\"mazda\",\"mazda\",\"mazda\",\"mazda\",\"mazda\",\"mazda\",\"mazda\",\"mazda\",\"mazda\",\"mazda\",\"mazda\",\"mazda\",\"mazda\",\"mazda\",\"mercedes-benz\",\"mercedes-benz\",\"mercedes-benz\",\"mercedes-benz\",\"mercedes-benz\",\"mercedes-benz\",\"mercedes-benz\",\"mercedes-benz\",\"mercury\",\"mitsubishi\",\"mitsubishi\",\"mitsubishi\",\"mitsubishi\",\"mitsubishi\",\"mitsubishi\",\"mitsubishi\",\"mitsubishi\",\"mitsubishi\",\"mitsubishi\",\"mitsubishi\",\"mitsubishi\",\"mitsubishi\",\"nissan\",\"nissan\",\"nissan\",\"nissan\",\"nissan\",\"nissan\",\"nissan\",\"nissan\",\"nissan\",\"nissan\",\"nissan\",\"nissan\",\"nissan\",\"nissan\",\"nissan\",\"nissan\",\"nissan\",\"nissan\",\"peugot\",\"peugot\",\"peugot\",\"peugot\",\"peugot\",\"peugot\",\"peugot\",\"peugot\",\"peugot\",\"peugot\",\"peugot\",\"plymouth\",\"plymouth\",\"plymouth\",\"plymouth\",\"plymouth\",\"plymouth\",\"plymouth\",\"porsche\",\"porsche\",\"porsche\",\"porsche\",\"saab\",\"saab\",\"saab\",\"saab\",\"saab\",\"saab\",\"subaru\",\"subaru\",\"subaru\",\"subaru\",\"subaru\",\"subaru\",\"subaru\",\"subaru\",\"subaru\",\"subaru\",\"subaru\",\"subaru\",\"toyota\",\"toyota\",\"toyota\",\"toyota\",\"toyota\",\"toyota\",\"toyota\",\"toyota\",\"toyota\",\"toyota\",\"toyota\",\"toyota\",\"toyota\",\"toyota\",\"toyota\",\"toyota\",\"toyota\",\"toyota\",\"toyota\",\"toyota\",\"toyota\",\"toyota\",\"toyota\",\"toyota\",\"toyota\",\"toyota\",\"toyota\",\"toyota\",\"toyota\",\"toyota\",\"toyota\",\"toyota\",\"volkswagen\",\"volkswagen\",\"volkswagen\",\"volkswagen\",\"volkswagen\",\"volkswagen\",\"volkswagen\",\"volkswagen\",\"volkswagen\",\"volkswagen\",\"volkswagen\",\"volkswagen\",\"volvo\",\"volvo\",\"volvo\",\"volvo\",\"volvo\",\"volvo\",\"volvo\",\"volvo\",\"volvo\",\"volvo\",\"volvo\"],\"x\":{\"__ndarray__\":\"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\",\"dtype\":\"float64\",\"shape\":[199]},\"y\":{\"__ndarray__\":\"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\",\"dtype\":\"float64\",\"shape\":[199]}},\"selected\":{\"id\":\"1051\",\"type\":\"Selection\"},\"selection_policy\":{\"id\":\"1052\",\"type\":\"UnionRenderers\"}},\"id\":\"1002\",\"type\":\"ColumnDataSource\"},{\"attributes\":{\"overlay\":{\"id\":\"1031\",\"type\":\"BoxAnnotation\"}},\"id\":\"1024\",\"type\":\"BoxZoomTool\"},{\"attributes\":{},\"id\":\"1025\",\"type\":\"SaveTool\"},{\"attributes\":{},\"id\":\"1026\",\"type\":\"ResetTool\"},{\"attributes\":{\"gradient\":171.92478258259916,\"line_color\":{\"value\":\"red\"},\"line_width\":{\"value\":3},\"plot\":{\"id\":\"1003\",\"subtype\":\"Figure\",\"type\":\"Plot\"},\"y_intercept\":-4541.141339550679},\"id\":\"1235\",\"type\":\"Slope\"},{\"attributes\":{},\"id\":\"1027\",\"type\":\"HelpTool\"},{\"attributes\":{\"callback\":null},\"id\":\"1004\",\"type\":\"DataRange1d\"},{\"attributes\":{\"gradient\":180.98280144265405,\"line_color\":{\"value\":\"red\"},\"line_width\":{\"value\":3},\"plot\":{\"id\":\"1003\",\"subtype\":\"Figure\",\"type\":\"Plot\"},\"y_intercept\":-5203.50739335955},\"id\":\"1107\",\"type\":\"Slope\"},{\"attributes\":{\"callback\":null,\"tooltips\":[[\"make\",\"@make\"],[\"horsepower\",\"$x\"],[\"price\",\"$y{$0}\"]]},\"id\":\"1028\",\"type\":\"HoverTool\"},{\"attributes\":{\"data_source\":{\"id\":\"1002\",\"type\":\"ColumnDataSource\"},\"glyph\":{\"id\":\"1040\",\"type\":\"Circle\"},\"hover_glyph\":null,\"muted_glyph\":null,\"nonselection_glyph\":{\"id\":\"1041\",\"type\":\"Circle\"},\"selection_glyph\":null,\"view\":{\"id\":\"1043\",\"type\":\"CDSView\"}},\"id\":\"1042\",\"type\":\"GlyphRenderer\"},{\"attributes\":{\"callback\":null},\"id\":\"1006\",\"type\":\"DataRange1d\"},{\"attributes\":{},\"id\":\"1008\",\"type\":\"LinearScale\"},{\"attributes\":{\"bottom_units\":\"screen\",\"fill_alpha\":{\"value\":0.5},\"fill_color\":{\"value\":\"lightgrey\"},\"left_units\":\"screen\",\"level\":\"overlay\",\"line_alpha\":{\"value\":1.0},\"line_color\":{\"value\":\"black\"},\"line_dash\":[4,4],\"line_width\":{\"value\":2},\"plot\":null,\"render_mode\":\"css\",\"right_units\":\"screen\",\"top_units\":\"screen\"},\"id\":\"1031\",\"type\":\"BoxAnnotation\"},{\"attributes\":{},\"id\":\"1010\",\"type\":\"LinearScale\"},{\"attributes\":{\"source\":{\"id\":\"1002\",\"type\":\"ColumnDataSource\"}},\"id\":\"1043\",\"type\":\"CDSView\"},{\"attributes\":{\"axis_label\":\"Horsepower\",\"formatter\":{\"id\":\"1047\",\"type\":\"BasicTickFormatter\"},\"plot\":{\"id\":\"1003\",\"subtype\":\"Figure\",\"type\":\"Plot\"},\"ticker\":{\"id\":\"1013\",\"type\":\"BasicTicker\"}},\"id\":\"1012\",\"type\":\"LinearAxis\"},{\"attributes\":{},\"id\":\"1013\",\"type\":\"BasicTicker\"},{\"attributes\":{\"plot\":null,\"text\":\"\"},\"id\":\"1045\",\"type\":\"Title\"},{\"attributes\":{\"axis_label\":\"Price\",\"formatter\":{\"id\":\"1049\",\"type\":\"BasicTickFormatter\"},\"plot\":{\"id\":\"1003\",\"subtype\":\"Figure\",\"type\":\"Plot\"},\"ticker\":{\"id\":\"1018\",\"type\":\"BasicTicker\"}},\"id\":\"1017\",\"type\":\"LinearAxis\"},{\"attributes\":{},\"id\":\"1047\",\"type\":\"BasicTickFormatter\"},{\"attributes\":{\"plot\":{\"id\":\"1003\",\"subtype\":\"Figure\",\"type\":\"Plot\"},\"ticker\":{\"id\":\"1013\",\"type\":\"BasicTicker\"}},\"id\":\"1016\",\"type\":\"Grid\"},{\"attributes\":{},\"id\":\"1049\",\"type\":\"BasicTickFormatter\"},{\"attributes\":{\"gradient\":171.92478258259916,\"line_color\":{\"value\":\"red\"},\"line_width\":{\"value\":3},\"plot\":{\"id\":\"1003\",\"subtype\":\"Figure\",\"type\":\"Plot\"},\"y_intercept\":-4541.141339550679},\"id\":\"1171\",\"type\":\"Slope\"},{\"attributes\":{},\"id\":\"1018\",\"type\":\"BasicTicker\"},{\"attributes\":{},\"id\":\"1051\",\"type\":\"Selection\"},{\"attributes\":{\"dimension\":1,\"plot\":{\"id\":\"1003\",\"subtype\":\"Figure\",\"type\":\"Plot\"},\"ticker\":{\"id\":\"1018\",\"type\":\"BasicTicker\"}},\"id\":\"1021\",\"type\":\"Grid\"},{\"attributes\":{},\"id\":\"1052\",\"type\":\"UnionRenderers\"},{\"attributes\":{\"active_drag\":\"auto\",\"active_inspect\":\"auto\",\"active_multi\":null,\"active_scroll\":\"auto\",\"active_tap\":\"auto\",\"tools\":[{\"id\":\"1022\",\"type\":\"PanTool\"},{\"id\":\"1023\",\"type\":\"WheelZoomTool\"},{\"id\":\"1024\",\"type\":\"BoxZoomTool\"},{\"id\":\"1025\",\"type\":\"SaveTool\"},{\"id\":\"1026\",\"type\":\"ResetTool\"},{\"id\":\"1027\",\"type\":\"HelpTool\"},{\"id\":\"1028\",\"type\":\"HoverTool\"}]},\"id\":\"1029\",\"type\":\"Toolbar\"}],\"root_ids\":[\"1003\"]},\"title\":\"Bokeh Application\",\"version\":\"1.0.4\"}};\n",
       "  var render_items = [{\"docid\":\"8ab85259-5d73-4f11-b78c-062dab2d90d2\",\"roots\":{\"1003\":\"acce6874-b1f8-4fef-934b-d17c3017c607\"}}];\n",
       "  root.Bokeh.embed.embed_items_notebook(docs_json, render_items);\n",
       "\n",
       "  }\n",
       "  if (root.Bokeh !== undefined) {\n",
       "    embed_document(root);\n",
       "  } else {\n",
       "    var attempts = 0;\n",
       "    var timer = setInterval(function(root) {\n",
       "      if (root.Bokeh !== undefined) {\n",
       "        embed_document(root);\n",
       "        clearInterval(timer);\n",
       "      }\n",
       "      attempts++;\n",
       "      if (attempts > 100) {\n",
       "        console.log(\"Bokeh: ERROR: Unable to run BokehJS code because BokehJS library is missing\");\n",
       "        clearInterval(timer);\n",
       "      }\n",
       "    }, 10, root)\n",
       "  }\n",
       "})(window);"
      ],
      "application/vnd.bokehjs_exec.v0+json": ""
     },
     "metadata": {
      "application/vnd.bokehjs_exec.v0+json": {
       "id": "1003"
      }
     },
     "output_type": "display_data"
    }
   ],
   "source": [
    "# Now let's add the line to our graph\n",
    "from bokeh.models import Slope\n",
    "best_line = Slope(gradient=slope, y_intercept=intercept, line_color='red', line_width=3)\n",
    "p.add_layout(best_line)\n",
    "show(p)"
   ]
  },
  {
   "cell_type": "code",
   "execution_count": 45,
   "metadata": {
    "ExecuteTime": {
     "end_time": "2019-08-05T21:22:33.071580Z",
     "start_time": "2019-08-05T21:22:33.062593Z"
    },
    "_uuid": "a31d9bffe171949df0395db4c17b598259a3343e",
    "hidden": true
   },
   "outputs": [
    {
     "name": "stdout",
     "output_type": "stream",
     "text": [
      "training mean error: 3121.7263353998783 training mse: 20161208.698624592 training r2: 0.644533544086048\n",
      "test mean error: 3818.1063303860415 test mse: 26785819.402696885 test r2: 0.6667589387914323\n"
     ]
    }
   ],
   "source": [
    "from sklearn.metrics import mean_absolute_error, mean_squared_error, r2_score\n",
    "\n",
    "# define a function to generate a prediction and then compute the desired metrics\n",
    "def predict_metrics(lr, x, y):\n",
    "    pred = lr.predict(x)\n",
    "    mae = mean_absolute_error(y, pred)\n",
    "    mse = mean_squared_error(y, pred)\n",
    "    r2 = r2_score(y, pred)\n",
    "    return mae, mse, r2\n",
    "\n",
    "training_mae, training_mse, training_r2 = predict_metrics(model, training_x, training_y)\n",
    "\n",
    "# calculate with test data so we can compare\n",
    "test_x = np.array(test['horsepower']).reshape(-1, 1)\n",
    "test_y = np.array(test['price'])\n",
    "test_mae, test_mse, test_r2 = predict_metrics(model, test_x, test_y)\n",
    "\n",
    "print('training mean error:', training_mae, 'training mse:', training_mse, 'training r2:', training_r2)\n",
    "print('test mean error:', test_mae, 'test mse:', test_mse, 'test r2:', test_r2)"
   ]
  },
  {
   "cell_type": "code",
   "execution_count": 48,
   "metadata": {
    "ExecuteTime": {
     "end_time": "2019-08-05T21:36:37.567874Z",
     "start_time": "2019-08-05T21:36:37.561907Z"
    },
    "hidden": true
   },
   "outputs": [
    {
     "data": {
      "text/plain": [
       "26785819.402696885"
      ]
     },
     "execution_count": 48,
     "metadata": {},
     "output_type": "execute_result"
    }
   ],
   "source": [
    "np.mean((model.predict(test_x) - test_y)**2) # mean square error"
   ]
  },
  {
   "cell_type": "code",
   "execution_count": 50,
   "metadata": {
    "ExecuteTime": {
     "end_time": "2019-08-05T21:38:13.171765Z",
     "start_time": "2019-08-05T21:38:13.166776Z"
    },
    "hidden": true
   },
   "outputs": [
    {
     "data": {
      "text/plain": [
       "3818.1063303860415"
      ]
     },
     "execution_count": 50,
     "metadata": {},
     "output_type": "execute_result"
    }
   ],
   "source": [
    "np.mean(np.abs(model.predict(test_x) - test_y)) # mean absolute error"
   ]
  },
  {
   "cell_type": "markdown",
   "metadata": {},
   "source": [
    "## Perform linear regression on 1 dependent variable and several independent variables"
   ]
  },
  {
   "cell_type": "code",
   "execution_count": 10,
   "metadata": {
    "ExecuteTime": {
     "end_time": "2019-08-05T20:38:56.243032Z",
     "start_time": "2019-08-05T20:38:56.220093Z"
    },
    "_uuid": "87b3027f087c3d5c2b432f8141f9636a923ee9f6"
   },
   "outputs": [
    {
     "name": "stdout",
     "output_type": "stream",
     "text": [
      "horsepower (0.8105330821322063, 1.1891278276946011e-47)\n",
      "engine-size (0.8738869517981516, 1.2650674479074428e-63)\n",
      "peak-rpm (-0.10164886620219901, 0.15311824317199588)\n",
      "length (0.6939647745646871, 6.39831060305001e-30)\n",
      "width (0.7538710519013427, 8.679834788813268e-38)\n",
      "height (0.13499022754460993, 0.05730390719825449)\n"
     ]
    }
   ],
   "source": [
    "cols = ['horsepower', 'engine-size', 'peak-rpm', 'length', 'width', 'height']\n",
    "\n",
    "# preprocess the data as before (coerce to number)\n",
    "for col in cols:\n",
    "    data[col] = pd.to_numeric(data[col], errors='coerce')\n",
    "\n",
    "# And removing any rows which contain missing data\n",
    "data.dropna(subset=['price', 'horsepower'], inplace=True)\n",
    "\n",
    "# Let's see how strongly each column is correlated to price\n",
    "for col in cols:\n",
    "    print(col, pearsonr(data[col], data['price']))"
   ]
  },
  {
   "cell_type": "code",
   "execution_count": 11,
   "metadata": {
    "ExecuteTime": {
     "end_time": "2019-08-05T20:38:56.255000Z",
     "start_time": "2019-08-05T20:38:56.248019Z"
    },
    "_uuid": "9299548a0a29bbf4e577a4d6c6df229e672145c1"
   },
   "outputs": [],
   "source": [
    "# split train and test data as before\n",
    "model_cols = ['horsepower', 'engine-size', 'length', 'width']\n",
    "multi_x = np.column_stack(tuple(data[col] for col in model_cols))\n",
    "multi_train_x, multi_test_x, multi_train_y, multi_test_y = \\\n",
    "    train_test_split(multi_x, data['price'], test_size=0.25)"
   ]
  },
  {
   "cell_type": "code",
   "execution_count": 12,
   "metadata": {
    "ExecuteTime": {
     "end_time": "2019-08-05T20:38:56.278946Z",
     "start_time": "2019-08-05T20:38:56.256995Z"
    },
    "_uuid": "7d647d37250edffac553c14c8f66432af2ab7e71"
   },
   "outputs": [
    {
     "name": "stdout",
     "output_type": "stream",
     "text": [
      "intercept: -70324.0322629624\n",
      "coefficients: {'horsepower': 52.445136577377546, 'engine-size': 88.2970830264895, 'length': 15.69069042110074, 'width': 976.185058271954}\n"
     ]
    }
   ],
   "source": [
    "# fit the model as before\n",
    "multi_model = linear_model.LinearRegression()\n",
    "\n",
    "multi_model.fit(multi_train_x, multi_train_y)\n",
    "\n",
    "multi_intercept = multi_model.intercept_\n",
    "multi_coeffs = dict(zip(model_cols, multi_model.coef_))\n",
    "print('intercept:', multi_intercept)\n",
    "print('coefficients:', multi_coeffs)"
   ]
  },
  {
   "cell_type": "code",
   "execution_count": 13,
   "metadata": {
    "ExecuteTime": {
     "end_time": "2019-08-05T20:38:56.295891Z",
     "start_time": "2019-08-05T20:38:56.282925Z"
    },
    "_uuid": "61a9560db1757154972c96b9b17392bf15ffd64b"
   },
   "outputs": [
    {
     "name": "stdout",
     "output_type": "stream",
     "text": [
      "training mean error: 2376.368680804955 training mse: 10646771.454934087 training r2: 0.8365242209894131\n",
      "test mean error: 2622.9424061106165 test mse: 14749658.867584916 test r2: 0.7442623980880259\n"
     ]
    }
   ],
   "source": [
    "# calculate error metrics\n",
    "multi_train_mae, multi_train_mse, multi_train_r2 = predict_metrics(multi_model, multi_train_x, multi_train_y)\n",
    "multi_test_mae, multi_test_mse, multi_test_r2 = predict_metrics(multi_model, multi_test_x, multi_test_y)\n",
    "print('training mean error:', multi_train_mae, 'training mse:', multi_train_mse, 'training r2:', multi_train_r2)\n",
    "print('test mean error:', multi_test_mae, 'test mse:', multi_test_mse, 'test r2:', multi_test_r2)"
   ]
  },
  {
   "cell_type": "markdown",
   "metadata": {
    "_uuid": "9c1b7f8ff3a881b68194c181b2b40b5b5a90d9b6"
   },
   "source": [
    "# Ridge Regression"
   ]
  },
  {
   "cell_type": "code",
   "execution_count": 14,
   "metadata": {
    "ExecuteTime": {
     "end_time": "2019-08-05T20:38:56.319827Z",
     "start_time": "2019-08-05T20:38:56.299879Z"
    }
   },
   "outputs": [
    {
     "name": "stdout",
     "output_type": "stream",
     "text": [
      "slope: 180.0865818596351 intercept: -5330.4678016940725\n"
     ]
    }
   ],
   "source": [
    "# Create train and test set\n",
    "from sklearn.model_selection import train_test_split\n",
    "train, test = train_test_split(data, test_size=0.25)\n",
    "\n",
    "# 1 dependent and 1 independent variable\n",
    "X_train = np.array(train['horsepower']).reshape(-1, 1) # transform dataframe column to a 2D array\n",
    "y_train = np.array(train['price']) # transform dataframe column to an array\n",
    "\n",
    "# Import Ridge Regression\n",
    "from sklearn import linear_model\n",
    "model = linear_model.Ridge()\n",
    "\n",
    "# Perform Ridge Regression\n",
    "model.fit(X_train, y_train)\n",
    "\n",
    "# Print result\n",
    "slope = np.asscalar(np.squeeze(model.coef_))\n",
    "intercept = model.intercept_\n",
    "print('slope:', slope, 'intercept:', intercept)\n",
    "\n",
    "# Calculate error metrics\n"
   ]
  },
  {
   "cell_type": "code",
   "execution_count": 15,
   "metadata": {
    "ExecuteTime": {
     "end_time": "2019-08-05T20:38:56.329800Z",
     "start_time": "2019-08-05T20:38:56.321821Z"
    }
   },
   "outputs": [],
   "source": [
    "# 1 dependent and several independent variables\n",
    "\n",
    "# Choose several independent variables\n",
    "\n",
    "# Check linear relationship between each independent variable and the dependent variable\n",
    "\n",
    "# Remove independent variables that have poor linear relationship with the independent variable\n",
    "\n",
    "# Create train and test set\n",
    "\n",
    "# Run Ridge Regression\n",
    "\n",
    "# Calculate error metrics"
   ]
  },
  {
   "cell_type": "code",
   "execution_count": 16,
   "metadata": {
    "ExecuteTime": {
     "end_time": "2019-08-05T20:38:56.337778Z",
     "start_time": "2019-08-05T20:38:56.333789Z"
    }
   },
   "outputs": [],
   "source": [
    "# Lasso Regression"
   ]
  },
  {
   "cell_type": "code",
   "execution_count": 17,
   "metadata": {
    "ExecuteTime": {
     "end_time": "2019-08-05T20:38:56.357726Z",
     "start_time": "2019-08-05T20:38:56.340771Z"
    }
   },
   "outputs": [],
   "source": [
    "# Calculate error metrics"
   ]
  }
 ],
 "metadata": {
  "kernelspec": {
   "display_name": "Python 3",
   "language": "python",
   "name": "python3"
  },
  "language_info": {
   "codemirror_mode": {
    "name": "ipython",
    "version": 3
   },
   "file_extension": ".py",
   "mimetype": "text/x-python",
   "name": "python",
   "nbconvert_exporter": "python",
   "pygments_lexer": "ipython3",
   "version": "3.7.3"
  },
  "toc": {
   "base_numbering": 1,
   "nav_menu": {},
   "number_sections": true,
   "sideBar": true,
   "skip_h1_title": false,
   "title_cell": "Table of Contents",
   "title_sidebar": "Contents",
   "toc_cell": false,
   "toc_position": {
    "height": "calc(100% - 180px)",
    "left": "10px",
    "top": "150px",
    "width": "165px"
   },
   "toc_section_display": true,
   "toc_window_display": true
  },
  "varInspector": {
   "cols": {
    "lenName": 16,
    "lenType": 16,
    "lenVar": 40
   },
   "kernels_config": {
    "python": {
     "delete_cmd_postfix": "",
     "delete_cmd_prefix": "del ",
     "library": "var_list.py",
     "varRefreshCmd": "print(var_dic_list())"
    },
    "r": {
     "delete_cmd_postfix": ") ",
     "delete_cmd_prefix": "rm(",
     "library": "var_list.r",
     "varRefreshCmd": "cat(var_dic_list()) "
    }
   },
   "types_to_exclude": [
    "module",
    "function",
    "builtin_function_or_method",
    "instance",
    "_Feature"
   ],
   "window_display": false
  }
 },
 "nbformat": 4,
 "nbformat_minor": 1
}
